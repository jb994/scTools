{
 "cells": [
  {
   "cell_type": "code",
   "execution_count": 18,
   "id": "electric-advance",
   "metadata": {},
   "outputs": [],
   "source": [
    "import pandas as pd\n",
    "import numpy as np\n",
    "import scanpy as sc\n",
    "import anndata as ad\n",
    "from collections import Counter"
   ]
  },
  {
   "cell_type": "code",
   "execution_count": 11,
   "id": "stainless-pleasure",
   "metadata": {},
   "outputs": [],
   "source": [
    "['macroClusters','coarseClusters','fineClusters']\n",
    "Data={}\n",
    "treatments = ['NonfatVehicle','FriedVehicle','FriedCRV431','FriedLANI','FriedCRVLAN']\n",
    "for item in treatments:\n",
    "    Data[item]=sc.read_h5ad(f\"../ClusteringResults/{item}.h5ad\")"
   ]
  },
  {
   "cell_type": "code",
   "execution_count": 30,
   "id": "binary-patient",
   "metadata": {},
   "outputs": [
    {
     "name": "stdout",
     "output_type": "stream",
     "text": [
      "['Blood' 'Ccl6++' 'Lymphoid Cells' 'Neutrophils']\n",
      "['Basophils' 'Cholangiocytes' 'Endothelial Cells' 'Hepatocytes' 'Jchain++'\n",
      " 'Lymphoid Cells' 'Myeloid Cells' 'Neutrophils' 'Stellate Cells']\n",
      "['Basophils' 'Cholangiocytes' 'Endothelial Cells' 'Lymphoid Cells'\n",
      " 'Myeloid Cells' 'Neutrophils' 'Stellate Cells']\n",
      "['Basophils' 'Cholangiocytes' 'Endothelial Cells' 'Hepatocytes'\n",
      " 'Lymphoid Cells' 'Myeloid Cells' 'Neutrophils' 'Stellate Cells']\n",
      "['Basophils' 'Cd79a++' 'Cholangiocytes' 'Endothelial Cells' 'Hepatocytes'\n",
      " 'Lymphoid Cells' 'Myeloid Cells' 'Neutrophils' 'Stellate Cells' 'Stmn1++']\n",
      "\n",
      "['Basophils' 'Blood' 'Ccl6++' 'Cd79a++' 'Cholangiocytes'\n",
      " 'Endothelial Cells' 'Hepatocytes' 'Jchain++' 'Lymphoid Cells'\n",
      " 'Myeloid Cells' 'Neutrophils' 'Stellate Cells' 'Stmn1++']\n",
      "[0, 37, 38, 0, 0, 0, 0, 0, 5360, 0, 121, 0, 0]\n",
      "[31, 0, 0, 0, 85, 10, 5, 9, 2091, 2501, 192, 19, 0]\n",
      "[24, 0, 0, 0, 40, 11, 0, 0, 1977, 1198, 249, 8, 0]\n",
      "[14, 0, 0, 0, 211, 38, 21, 0, 2678, 2130, 263, 52, 0]\n",
      "[29, 0, 0, 65, 28, 1700, 557, 0, 2647, 871, 217, 47, 33]\n",
      "                   NonfatVehicle  FriedVehicle  FriedCRV431  FriedLANI  \\\n",
      "Basophils                      0            31           24         14   \n",
      "Blood                         37             0            0          0   \n",
      "Ccl6++                        38             0            0          0   \n",
      "Cd79a++                        0             0            0          0   \n",
      "Cholangiocytes                 0            85           40        211   \n",
      "Endothelial Cells              0            10           11         38   \n",
      "Hepatocytes                    0             5            0         21   \n",
      "Jchain++                       0             9            0          0   \n",
      "Lymphoid Cells              5360          2091         1977       2678   \n",
      "Myeloid Cells                  0          2501         1198       2130   \n",
      "Neutrophils                  121           192          249        263   \n",
      "Stellate Cells                 0            19            8         52   \n",
      "Stmn1++                        0             0            0          0   \n",
      "\n",
      "                   FriedCRVLAN  \n",
      "Basophils                   29  \n",
      "Blood                        0  \n",
      "Ccl6++                       0  \n",
      "Cd79a++                     65  \n",
      "Cholangiocytes              28  \n",
      "Endothelial Cells         1700  \n",
      "Hepatocytes                557  \n",
      "Jchain++                     0  \n",
      "Lymphoid Cells            2647  \n",
      "Myeloid Cells              871  \n",
      "Neutrophils                217  \n",
      "Stellate Cells              47  \n",
      "Stmn1++                     33  \n"
     ]
    }
   ],
   "source": [
    "allTypes=[]\n",
    "res = 'macroClusters'\n",
    "for item in treatments:\n",
    "    print(np.unique(Data[item].obs[res]))\n",
    "    allTypes += list(np.unique(Data[item].obs[res]))\n",
    "print(\"\")\n",
    "allTypes=np.unique(allTypes)\n",
    "print(allTypes)\n",
    "\n",
    "df=[]\n",
    "for item in treatments:\n",
    "    clusterArr = Data[item].obs[res]\n",
    "    count = Counter(clusterArr)\n",
    "    t=[]\n",
    "    for cluster in allTypes:\n",
    "        if cluster in count.keys():\n",
    "            t.append(count[cluster])\n",
    "        else:\n",
    "            t.append(0)\n",
    "    print(t)\n",
    "    df.append(t)\n",
    "    \n",
    "df = pd.DataFrame(df, index=treatments, columns=allTypes).T\n",
    "print(df)\n",
    "df.to_csv(f\"{res}.csv\")"
   ]
  }
 ],
 "metadata": {
  "kernelspec": {
   "display_name": "Python 3",
   "language": "python",
   "name": "python3"
  },
  "language_info": {
   "codemirror_mode": {
    "name": "ipython",
    "version": 3
   },
   "file_extension": ".py",
   "mimetype": "text/x-python",
   "name": "python",
   "nbconvert_exporter": "python",
   "pygments_lexer": "ipython3",
   "version": "3.8.15"
  }
 },
 "nbformat": 4,
 "nbformat_minor": 5
}
